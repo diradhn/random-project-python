{
 "cells": [
  {
   "cell_type": "code",
   "execution_count": 4,
   "metadata": {},
   "outputs": [
    {
     "name": "stdout",
     "output_type": "stream",
     "text": [
      "Requirement already satisfied: pillow in c:\\users\\hp\\appdata\\local\\programs\\python\\python311\\lib\\site-packages (9.5.0)\n",
      "Requirement already satisfied: qrcode[pil] in c:\\users\\hp\\appdata\\local\\programs\\python\\python311\\lib\\site-packages (8.0)\n",
      "Requirement already satisfied: colorama in c:\\users\\hp\\appdata\\roaming\\python\\python311\\site-packages (from qrcode[pil]) (0.4.6)\n",
      "Note: you may need to restart the kernel to use updated packages.\n"
     ]
    },
    {
     "name": "stderr",
     "output_type": "stream",
     "text": [
      "\n",
      "[notice] A new release of pip is available: 24.1.2 -> 24.3.1\n",
      "[notice] To update, run: python.exe -m pip install --upgrade pip\n"
     ]
    }
   ],
   "source": [
    "pip install qrcode[pil] pillow"
   ]
  },
  {
   "cell_type": "code",
   "execution_count": 6,
   "metadata": {},
   "outputs": [
    {
     "name": "stderr",
     "output_type": "stream",
     "text": [
      "C:\\Users\\HP\\AppData\\Local\\Temp\\ipykernel_37400\\3603736807.py:51: DeprecationWarning: ANTIALIAS is deprecated and will be removed in Pillow 10 (2023-07-01). Use LANCZOS or Resampling.LANCZOS instead.\n",
      "  img = img.resize((250, 250), Image.ANTIALIAS)\n"
     ]
    }
   ],
   "source": [
    "import tkinter as tk\n",
    "from tkinter import messagebox\n",
    "import qrcode\n",
    "from PIL import Image, ImageTk\n",
    "import sqlite3\n",
    "import io\n",
    "\n",
    "# Fungsi untuk menyimpan gambar ke database\n",
    "def save_image_to_db(image_path):\n",
    "    # Koneksi ke database SQLite\n",
    "    conn = sqlite3.connect('qrcodes.db')\n",
    "    cursor = conn.cursor()\n",
    "    \n",
    "    # Membuat tabel jika belum ada\n",
    "    cursor.execute('''\n",
    "        CREATE TABLE IF NOT EXISTS qrcodes (\n",
    "            id INTEGER PRIMARY KEY AUTOINCREMENT,\n",
    "            image BLOB NOT NULL\n",
    "        )\n",
    "    ''')\n",
    "    \n",
    "    # Membaca gambar dan menyimpannya sebagai BLOB\n",
    "    with open(image_path, 'rb') as file:\n",
    "        img_data = file.read()\n",
    "        cursor.execute(\"INSERT INTO qrcodes (image) VALUES (?)\", (img_data,))\n",
    "    \n",
    "    # Menyimpan perubahan dan menutup koneksi\n",
    "    conn.commit()\n",
    "    conn.close()\n",
    "\n",
    "# Fungsi untuk menghasilkan QR Code\n",
    "def generate_qr():\n",
    "    data = entry_data.get()\n",
    "    if not data:\n",
    "        messagebox.showerror(\"Error\", \"Please enter data to generate QR Code\")\n",
    "        return\n",
    "    \n",
    "    # Membuat QR Code\n",
    "    qr = qrcode.QRCode(version=1, box_size=10, border=5)\n",
    "    qr.add_data(data)\n",
    "    qr.make(fit=True)\n",
    "    \n",
    "    img = qr.make_image(fill_color=\"black\", back_color=\"white\")\n",
    "    img.save(\"qrcode.png\")  # Simpan QR Code sebagai file gambar\n",
    "\n",
    "    # Menyimpan gambar ke database\n",
    "    save_image_to_db(\"qrcode.png\")\n",
    "\n",
    "    # Menampilkan QR Code di GUI\n",
    "    img = Image.open(\"qrcode.png\")\n",
    "    img = img.resize((250, 250), Image.ANTIALIAS)\n",
    "    img_tk = ImageTk.PhotoImage(img)\n",
    "    \n",
    "    label_qr.config(image=img_tk)\n",
    "    label_qr.image = img_tk  # Simpan referensi gambar\n",
    "\n",
    "# Membuat jendela utama\n",
    "window = tk.Tk()\n",
    "window.title(\"QR Code Generator\")\n",
    "\n",
    "# Label dan Entry untuk data\n",
    "label_data = tk.Label(window, text=\"Enter data:\")\n",
    "label_data.pack(pady=10)\n",
    "\n",
    "entry_data = tk.Entry(window, width=40)\n",
    "entry_data.pack(pady=10)\n",
    "\n",
    "# Tombol untuk menghasilkan QR Code\n",
    "button_generate = tk.Button(window, text=\"Generate QR Code\", command=generate_qr)\n",
    "button_generate.pack(pady=10)\n",
    "\n",
    "# Label untuk menampilkan QR Code\n",
    "label_qr = tk.Label(window)\n",
    "label_qr.pack(pady=10)\n",
    "\n",
    "# Menjalankan aplikasi\n",
    "window.mainloop()"
   ]
  },
  {
   "cell_type": "code",
   "execution_count": 7,
   "metadata": {},
   "outputs": [
    {
     "name": "stdout",
     "output_type": "stream",
     "text": [
      "ID: 1\n",
      "ID: 2\n"
     ]
    }
   ],
   "source": [
    "import sqlite3\n",
    "import io\n",
    "from PIL import Image\n",
    "\n",
    "# Koneksi ke database SQLite\n",
    "conn = sqlite3.connect('qrcodes.db')\n",
    "cursor = conn.cursor()\n",
    "\n",
    "# Mengambil semua data dari tabel qrcodes\n",
    "cursor.execute(\"SELECT * FROM qrcodes\")\n",
    "rows = cursor.fetchall()\n",
    "\n",
    "# Menampilkan data\n",
    "for row in rows:\n",
    "    print(f\"ID: {row[0]}\")  # Menampilkan ID\n",
    "    img_data = row[1]  # Mengambil data gambar\n",
    "    image = Image.open(io.BytesIO(img_data))  # Membaca gambar dari BLOB\n",
    "    image.show()  # Menampilkan gambar\n",
    "\n",
    "# Menutup koneksi\n",
    "conn.close()"
   ]
  },
  {
   "cell_type": "code",
   "execution_count": null,
   "metadata": {},
   "outputs": [],
   "source": []
  }
 ],
 "metadata": {
  "colab": {
   "provenance": []
  },
  "kernelspec": {
   "display_name": "Python 3",
   "name": "python3"
  },
  "language_info": {
   "codemirror_mode": {
    "name": "ipython",
    "version": 3
   },
   "file_extension": ".py",
   "mimetype": "text/x-python",
   "name": "python",
   "nbconvert_exporter": "python",
   "pygments_lexer": "ipython3",
   "version": "3.11.2"
  }
 },
 "nbformat": 4,
 "nbformat_minor": 0
}
