{
  "nbformat": 4,
  "nbformat_minor": 0,
  "metadata": {
    "colab": {
      "provenance": []
    },
    "kernelspec": {
      "name": "python3",
      "display_name": "Python 3"
    },
    "language_info": {
      "name": "python"
    }
  },
  "cells": [
    {
      "cell_type": "code",
      "execution_count": 1,
      "metadata": {
        "colab": {
          "base_uri": "https://localhost:8080/"
        },
        "id": "8McwVVO9CrCN",
        "outputId": "3d37def8-c53f-4053-a4d2-6bc804919865"
      },
      "outputs": [
        {
          "output_type": "stream",
          "name": "stdout",
          "text": [
            "Selamat datang di permainan Tebak Angka!\n",
            "Saya telah memilih angka antara 1 dan 100.\n",
            "Anda memiliki 10 kesempatan untuk menebak angka tersebut.\n",
            "Masukkan tebakan Anda: 5\n",
            "Tebakan Anda terlalu kecil.\n",
            "Masukkan tebakan Anda: 50\n",
            "Tebakan Anda terlalu besar.\n",
            "Masukkan tebakan Anda: 25\n",
            "Tebakan Anda terlalu kecil.\n",
            "Masukkan tebakan Anda: 35\n",
            "Tebakan Anda terlalu kecil.\n",
            "Masukkan tebakan Anda: 45\n",
            "Tebakan Anda terlalu kecil.\n",
            "Masukkan tebakan Anda: 48\n",
            "Tebakan Anda terlalu besar.\n",
            "Masukkan tebakan Anda: 46\n",
            "Tebakan Anda terlalu kecil.\n",
            "Masukkan tebakan Anda: 47\n",
            "Selamat! Anda telah menebak angka 47 dengan 8 tebakan.\n"
          ]
        }
      ],
      "source": [
        "import random\n",
        "\n",
        "def tebak_angka():\n",
        "    # Komputer memilih angka acak antara 1 dan 100\n",
        "    angka_rahasia = random.randint(1, 100)\n",
        "    batas_tebakan = 10  # Batasan jumlah tebakan\n",
        "    tebakan = 0\n",
        "\n",
        "    print(\"Selamat datang di permainan Tebak Angka!\")\n",
        "    print(\"Saya telah memilih angka antara 1 dan 100.\")\n",
        "    print(f\"Anda memiliki {batas_tebakan} kesempatan untuk menebak angka tersebut.\")\n",
        "\n",
        "    while tebakan < batas_tebakan:\n",
        "        try:\n",
        "            # Meminta pemain untuk memasukkan tebakan\n",
        "            tebakan_pemain = int(input(\"Masukkan tebakan Anda: \"))\n",
        "            tebakan += 1  # Menambah jumlah tebakan\n",
        "\n",
        "            # Memeriksa tebakan\n",
        "            if tebakan_pemain < angka_rahasia:\n",
        "                print(\"Tebakan Anda terlalu kecil.\")\n",
        "            elif tebakan_pemain > angka_rahasia:\n",
        "                print(\"Tebakan Anda terlalu besar.\")\n",
        "            else:\n",
        "                print(f\"Selamat! Anda telah menebak angka {angka_rahasia} dengan {tebakan} tebakan.\")\n",
        "                break  # Keluar dari loop jika tebakan benar\n",
        "\n",
        "            # Memeriksa apakah pemain telah mencapai batas tebakan\n",
        "            if tebakan == batas_tebakan:\n",
        "                print(f\"Maaf, Anda telah mencapai batas tebakan. Angka yang benar adalah {angka_rahasia}.\")\n",
        "\n",
        "        except ValueError:\n",
        "            print(\"Silakan masukkan angka yang valid.\")\n",
        "\n",
        "# Menjalankan permainan\n",
        "tebak_angka()"
      ]
    }
  ]
}