{
  "nbformat": 4,
  "nbformat_minor": 0,
  "metadata": {
    "colab": {
      "provenance": []
    },
    "kernelspec": {
      "name": "python3",
      "display_name": "Python 3"
    },
    "language_info": {
      "name": "python"
    }
  },
  "cells": [
    {
      "cell_type": "code",
      "execution_count": null,
      "metadata": {
        "colab": {
          "base_uri": "https://localhost:8080/"
        },
        "id": "0tYp0qbOV88R",
        "outputId": "59f24834-e112-446b-cec0-5cc9f43f81aa"
      },
      "outputs": [
        {
          "output_type": "stream",
          "name": "stdout",
          "text": [
            "Requirement already satisfied: numpy in /usr/local/lib/python3.7/dist-packages (1.21.5)\n",
            "Requirement already satisfied: scipy in /usr/local/lib/python3.7/dist-packages (1.4.1)\n",
            "Requirement already satisfied: numpy>=1.13.3 in /usr/local/lib/python3.7/dist-packages (from scipy) (1.21.5)\n"
          ]
        }
      ],
      "source": [
        "import sys\n",
        "!{sys.executable} -m pip install numpy\n",
        "!{sys.executable} -m pip install scipy"
      ]
    },
    {
      "cell_type": "code",
      "source": [
        "import numpy as np\n",
        "x = np.array([1,2,3,5,5])"
      ],
      "metadata": {
        "id": "PBA2znwMXI4b"
      },
      "execution_count": null,
      "outputs": []
    },
    {
      "cell_type": "code",
      "source": [
        "#mean using numpy\n",
        "print(\"data\", x)\n",
        "print(\"mean : \", np.mean(x))\n",
        "\n",
        "#finding median of x\n",
        "print(\"data\", x)\n",
        "print(\"median : \", np.median(x))\n",
        "\n",
        "#finding mode using numpy\n",
        "print(\"data\", x)\n",
        "vals, counts = np.unique(x, return_counts = True)\n",
        "index = np.argmax(counts)\n",
        "print(\"mode : \", vals[index])\n",
        "\n",
        "#finding mode using scipy\n",
        "from scipy import stats\n",
        "print(\"mode : \", stats.mode(x))\n",
        "\n",
        "#calculating the range\n",
        "print(\"data\", x)\n",
        "print(\"range : \", x.max()-x.min())"
      ],
      "metadata": {
        "colab": {
          "base_uri": "https://localhost:8080/"
        },
        "id": "0Bakm7PwiG73",
        "outputId": "fd37161f-dcb6-440c-cea4-c0f45871a4ae"
      },
      "execution_count": null,
      "outputs": [
        {
          "output_type": "stream",
          "name": "stdout",
          "text": [
            "data [1 2 3 5 5]\n",
            "mean :  3.2\n",
            "data [1 2 3 5 5]\n",
            "median :  3.0\n",
            "data [1 2 3 5 5]\n",
            "mode :  5\n",
            "mode :  ModeResult(mode=array([5]), count=array([2]))\n",
            "data [1 2 3 5 5]\n",
            "range :  4\n"
          ]
        }
      ]
    },
    {
      "cell_type": "code",
      "source": [
        "from numpy.lib.function_base import percentile\n",
        "#defining data\n",
        "data1 = np.array([1,3,4,5,5,6,7,11])\n",
        "print(\"data\", data1)\n",
        "\n",
        "#first quartile (Q1)\n",
        "Q1 = np.quantile(data1, .25, interpolation = 'midpoint')\n",
        "print(\"\\nQuartile 1 : \", Q1)\n",
        "\n",
        "#Q2\n",
        "Q2 = np.quantile(data1, .50, interpolation = 'midpoint')\n",
        "print(\"\\nQuartile 2 : \", Q2)\n",
        "\n",
        "#Q3\n",
        "Q3 = np.quantile(data1, .75, interpolation = 'midpoint')\n",
        "print(\"\\nQuartile 3 : \", Q3)\n",
        "\n",
        "#interquartile range (IQR)\n",
        "IQR = Q3-Q1\n",
        "print(\"\\nInterquartile Range\", IQR)\n",
        "\n",
        "print(\"data\", data1)\n",
        "percentile_20 = np.percentile(data1, 20)\n",
        "print(\"20th percentile : \", round(percentile_20, 2))"
      ],
      "metadata": {
        "colab": {
          "base_uri": "https://localhost:8080/"
        },
        "id": "3WBKqyOMkq7d",
        "outputId": "bb9da645-0dc5-4a9a-825b-c1aab440a38b"
      },
      "execution_count": null,
      "outputs": [
        {
          "output_type": "stream",
          "name": "stdout",
          "text": [
            "data [ 1  3  4  5  5  6  7 11]\n",
            "\n",
            "Quartile 1 :  3.5\n",
            "\n",
            "Quartile 2 :  5.0\n",
            "\n",
            "Quartile 3 :  6.5\n",
            "\n",
            "Interquartile Range 3.0\n",
            "data [ 1  3  4  5  5  6  7 11]\n",
            "20th percentile :  3.4\n"
          ]
        }
      ]
    },
    {
      "cell_type": "code",
      "source": [
        "print(\"data\", data1)\n",
        "'''\n",
        "    \"delta degrees of freedom\": the divisior used in the calculation is\n",
        "    ''n - ddof'', where ''n'' represents the number of elements. by\n",
        "    default 'ddof' is zero.\n",
        "'''\n",
        "print(\"varaince : \", np.var(data1, ddof = 1))\n",
        "print(\"standard deviation : \", np.std(data1, ddof = 1))"
      ],
      "metadata": {
        "colab": {
          "base_uri": "https://localhost:8080/"
        },
        "id": "9xI-YTZFYin6",
        "outputId": "af842e17-7e1e-42bd-a5e7-b52a1223872c"
      },
      "execution_count": null,
      "outputs": [
        {
          "output_type": "stream",
          "name": "stdout",
          "text": [
            "data [ 1  3  4  5  5  6  7 11]\n",
            "varaince :  8.785714285714286\n",
            "standard deviation :  2.9640705601780613\n"
          ]
        }
      ]
    },
    {
      "cell_type": "code",
      "source": [
        "x = np.array([1,2,3,4,5,6,7,8,9])\n",
        "print(x)\n",
        "y = np.array([9,8,7,6,5,4,3,2,1])\n",
        "print(y)\n",
        "\n",
        "print(\"\\nCovariance\", np.cov(x,y)[0,1])\n",
        "\n",
        "#return a correlation coefficient matrix\n",
        "print(np.corrcoef(x,y))"
      ],
      "metadata": {
        "colab": {
          "base_uri": "https://localhost:8080/"
        },
        "id": "Y1154-gHbflh",
        "outputId": "488f5cdd-6443-4e77-b37c-8d878eea1b1a"
      },
      "execution_count": null,
      "outputs": [
        {
          "output_type": "stream",
          "name": "stdout",
          "text": [
            "[1 2 3 4 5 6 7 8 9]\n",
            "[9 8 7 6 5 4 3 2 1]\n",
            "\n",
            "Covariance -7.5\n",
            "[[ 1. -1.]\n",
            " [-1.  1.]]\n"
          ]
        }
      ]
    }
  ]
}
