{
  "nbformat": 4,
  "nbformat_minor": 0,
  "metadata": {
    "colab": {
      "provenance": []
    },
    "kernelspec": {
      "name": "python3",
      "display_name": "Python 3"
    },
    "language_info": {
      "name": "python"
    }
  },
  "cells": [
    {
      "cell_type": "code",
      "source": [
        "import sqlite3\n",
        "import smtplib\n",
        "from email.mime.text import MIMEText\n",
        "from datetime import datetime, timedelta"
      ],
      "metadata": {
        "id": "h-polsl7m0yI"
      },
      "execution_count": 1,
      "outputs": []
    },
    {
      "cell_type": "code",
      "source": [
        "# Koneksi ke database SQLite\n",
        "def create_connection():\n",
        "    conn = sqlite3.connect('invoices.db')\n",
        "    return conn"
      ],
      "metadata": {
        "id": "EvY1OEP8m2up"
      },
      "execution_count": 2,
      "outputs": []
    },
    {
      "cell_type": "code",
      "source": [
        "# Membuat tabel invoices\n",
        "def create_table():\n",
        "    conn = create_connection()\n",
        "    cursor = conn.cursor()\n",
        "    cursor.execute('''\n",
        "        CREATE TABLE IF NOT EXISTS invoices (\n",
        "            id INTEGER PRIMARY KEY,\n",
        "            amount REAL NOT NULL,\n",
        "            due_date TEXT NOT NULL,\n",
        "            recipient TEXT NOT NULL,\n",
        "            status TEXT NOT NULL\n",
        "        )\n",
        "    ''')\n",
        "    conn.commit()\n",
        "    conn.close()"
      ],
      "metadata": {
        "id": "Gg17KWSfm5sP"
      },
      "execution_count": 3,
      "outputs": []
    },
    {
      "cell_type": "code",
      "source": [
        "# Menambahkan faktur\n",
        "def add_invoice(amount, due_date, recipient):\n",
        "    conn = create_connection()\n",
        "    cursor = conn.cursor()\n",
        "    cursor.execute('''\n",
        "        INSERT INTO invoices (amount, due_date, recipient, status)\n",
        "        VALUES (?, ?, ?, ?)\n",
        "    ''', (amount, due_date, recipient, 'Belum Dibayar'))\n",
        "    conn.commit()\n",
        "    conn.close()"
      ],
      "metadata": {
        "id": "Mqjlzptmm9_Q"
      },
      "execution_count": 4,
      "outputs": []
    },
    {
      "cell_type": "code",
      "source": [
        "# Mengirim email pengingat\n",
        "def send_reminder(recipient, amount, due_date):\n",
        "    sender_email = \"your_email@example.com\"  # Ganti dengan email Anda\n",
        "    sender_password = \"your_password\"  # Ganti dengan password email Anda\n",
        "\n",
        "    msg = MIMEText(f\"Pengingat: Anda memiliki faktur sebesar {amount} yang jatuh tempo pada {due_date}.\")\n",
        "    msg['Subject'] = 'Pengingat Pembayaran Faktur'\n",
        "    msg['From'] = sender_email\n",
        "    msg['To'] = recipient\n",
        "\n",
        "    with smtplib.SMTP('smtp.gmail.com', 587) as server:\n",
        "        server.starttls()\n",
        "        server.login(sender_email, sender_password)\n",
        "        server.send_message(msg)"
      ],
      "metadata": {
        "id": "oHzlfxuunBlg"
      },
      "execution_count": 5,
      "outputs": []
    },
    {
      "cell_type": "code",
      "source": [
        "# Melacak dan mengirim pengingat untuk faktur yang jatuh tempo\n",
        "def check_due_invoices():\n",
        "    conn = create_connection()\n",
        "    cursor = conn.cursor()\n",
        "    today = datetime.now().date()\n",
        "    cursor.execute('''\n",
        "        SELECT * FROM invoices WHERE status = 'Belum Dibayar' AND due_date <= ?\n",
        "    ''', (today,))\n",
        "    invoices = cursor.fetchall()\n",
        "    for invoice in invoices:\n",
        "        id, amount, due_date, recipient, status = invoice\n",
        "        send_reminder(recipient, amount, due_date)\n",
        "        print(f\"Pengingat dikirim ke {recipient} untuk faktur {id}.\")\n",
        "    conn.close()"
      ],
      "metadata": {
        "id": "Ud_PEFagnlBC"
      },
      "execution_count": 6,
      "outputs": []
    },
    {
      "cell_type": "code",
      "source": [
        "# Menandai faktur sebagai sudah dibayar\n",
        "def mark_as_paid(invoice_id):\n",
        "    conn = create_connection()\n",
        "    cursor = conn.cursor()\n",
        "    cursor.execute('''\n",
        "        UPDATE invoices SET status = 'Sudah Dibayar' WHERE id = ?\n",
        "    ''', (invoice_id,))\n",
        "    conn.commit()\n",
        "    conn.close()\n",
        "\n",
        "# Fungsi utama\n",
        "def main():\n",
        "    create_table()\n",
        "    while True:\n",
        "        print(\"\\nMenu:\")\n",
        "        print(\"1. Tambah Faktur\")\n",
        "        print(\"2. Kirim Pengingat\")\n",
        "        print(\"3. Tandai Faktur Sudah Dibayar\")\n",
        "        print(\"4. Keluar\")\n",
        "        choice = input(\"Pilih opsi: \")\n",
        "\n",
        "        if choice == '1':\n",
        "            amount = float(input(\"Masukkan jumlah faktur: \"))\n",
        "            due_date = input(\"Masukkan tanggal jatuh tempo (YYYY-MM-DD): \")\n",
        "            recipient = input(\"Masukkan email penerima: \")\n",
        "            add_invoice(amount, due_date, recipient)\n",
        "            print(\"Faktur berhasil ditambahkan.\")\n",
        "\n",
        "        elif choice == '2':\n",
        "            check_due_invoices()\n",
        "\n",
        "        elif choice == '3':\n",
        "            invoice_id = int(input(\"Masukkan ID faktur yang sudah dibayar: \"))\n",
        "            mark_as_paid(invoice_id)\n",
        "            print(\"Faktur berhasil ditandai sebagai sudah dibayar.\")\n",
        "\n",
        "        elif choice == '4':\n",
        "            break\n",
        "\n",
        "        else:\n",
        "            print(\"Opsi tidak valid. Silakan coba lagi.\")\n",
        "\n",
        "if __name__ == \"__main__\":\n",
        "    main()"
      ],
      "metadata": {
        "colab": {
          "base_uri": "https://localhost:8080/"
        },
        "id": "LQ6H94UZmjRm",
        "outputId": "1b2147bc-030b-4a11-db29-035f957b863e"
      },
      "execution_count": 7,
      "outputs": [
        {
          "name": "stdout",
          "output_type": "stream",
          "text": [
            "\n",
            "Menu:\n",
            "1. Tambah Faktur\n",
            "2. Kirim Pengingat\n",
            "3. Tandai Faktur Sudah Dibayar\n",
            "4. Keluar\n",
            "Pilih opsi: 1\n",
            "Masukkan jumlah faktur: 250000\n",
            "Masukkan tanggal jatuh tempo (YYYY-MM-DD): 2024-12-20\n",
            "Masukkan email penerima: diradhn1611@gmail.com\n",
            "Faktur berhasil ditambahkan.\n",
            "\n",
            "Menu:\n",
            "1. Tambah Faktur\n",
            "2. Kirim Pengingat\n",
            "3. Tandai Faktur Sudah Dibayar\n",
            "4. Keluar\n",
            "Pilih opsi: 4\n"
          ]
        }
      ]
    },
    {
      "cell_type": "code",
      "source": [
        "# Koneksi ke database\n",
        "conn = sqlite3.connect('invoices.db')\n",
        "cursor = conn.cursor()\n",
        "\n",
        "# Memeriksa tabel yang ada\n",
        "cursor.execute(\"SELECT name FROM sqlite_master WHERE type='table';\")\n",
        "tables = cursor.fetchall()\n",
        "print(\"Tabel yang ada:\", tables)\n",
        "\n",
        "# Menampilkan data dari tabel invoices\n",
        "cursor.execute(\"SELECT * FROM invoices;\")\n",
        "rows = cursor.fetchall()\n",
        "print(\"Data dalam tabel invoices:\")\n",
        "for row in rows:\n",
        "    print(row)\n",
        "\n",
        "# Menutup koneksi\n",
        "conn.close()"
      ],
      "metadata": {
        "colab": {
          "base_uri": "https://localhost:8080/"
        },
        "id": "lHeO9uueobDc",
        "outputId": "996653ad-3067-478d-a677-3312dd9807b3"
      },
      "execution_count": 8,
      "outputs": [
        {
          "output_type": "stream",
          "name": "stdout",
          "text": [
            "Tabel yang ada: [('invoices',)]\n",
            "Data dalam tabel invoices:\n",
            "(1, 250000.0, '2024-12-20', 'diradhn1611@gmail.com', 'Belum Dibayar')\n"
          ]
        }
      ]
    },
    {
      "cell_type": "code",
      "source": [
        "def delete_all_invoices():\n",
        "    conn = sqlite3.connect('invoices.db')\n",
        "    cursor = conn.cursor()\n",
        "    cursor.execute(\"DELETE FROM invoices\")\n",
        "    conn.commit()\n",
        "    conn.close()\n",
        "    print(\"Semua data dalam tabel invoices berhasil dihapus.\")\n",
        "\n",
        "delete_all_invoices()"
      ],
      "metadata": {
        "colab": {
          "base_uri": "https://localhost:8080/"
        },
        "id": "36umRDaKo-7P",
        "outputId": "0c84d499-68ff-4c4e-ec65-3b168eb8c6fa"
      },
      "execution_count": 9,
      "outputs": [
        {
          "output_type": "stream",
          "name": "stdout",
          "text": [
            "Semua data dalam tabel invoices berhasil dihapus.\n"
          ]
        }
      ]
    }
  ]
}