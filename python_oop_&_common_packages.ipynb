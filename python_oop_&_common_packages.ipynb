{
  "nbformat": 4,
  "nbformat_minor": 0,
  "metadata": {
    "colab": {
      "provenance": []
    },
    "kernelspec": {
      "name": "python3",
      "display_name": "Python 3"
    },
    "language_info": {
      "name": "python"
    }
  },
  "cells": [
    {
      "cell_type": "code",
      "execution_count": null,
      "metadata": {
        "id": "vrpHqhlZbc3j"
      },
      "outputs": [],
      "source": [
        "class Employee:\n",
        "  \"Common base class for all employees\"\n",
        "  empCount = 0\n",
        "  def __init__(self, name, salary):\n",
        "    self.name = name\n",
        "    self.salary = salary\n",
        "    Employee.empCount += 1\n",
        "\n",
        "  def display_count(self):\n",
        "    print(\"Total Employee %d\" % Employee.empCount)\n",
        "\n",
        "  def display_employee(self):\n",
        "    print(\"Name : \", self.name, \"salary : \", self.salary)"
      ]
    },
    {
      "cell_type": "code",
      "source": [
        "class Manager(Employee):\n",
        "  manCount = 0\n",
        "  def __init__(self, name, salary, teamsize = 0):\n",
        "    super().__init__(name, salary)\n",
        "    self.teamsize = teamsize\n",
        "\n",
        "  def display_teamsize(self):\n",
        "    print(\"Team Size %d\" % self.teamsize)"
      ],
      "metadata": {
        "id": "0Vf0ZrcKbkbp"
      },
      "execution_count": null,
      "outputs": []
    },
    {
      "cell_type": "code",
      "source": [
        "emp1 = Employee(\"Johny\", 16000)\n",
        "emp2 = Employee(\"Shafi\", 7000)\n",
        "\n",
        "emp1.display_employee()\n",
        "emp2.display_employee()\n",
        "print(\"Total Employee %d\" % Employee.empCount)"
      ],
      "metadata": {
        "colab": {
          "base_uri": "https://localhost:8080/"
        },
        "id": "uzQndIPGbrTg",
        "outputId": "7c146646-81d8-4618-c8cd-c33859fcdeb2"
      },
      "execution_count": null,
      "outputs": [
        {
          "output_type": "stream",
          "name": "stdout",
          "text": [
            "Name :  Johny salary :  16000\n",
            "Name :  Shafi salary :  7000\n",
            "Total Employee 2\n"
          ]
        }
      ]
    },
    {
      "cell_type": "code",
      "source": [
        "import statistics\n",
        "x = [1,6,1,1,3,8,1,9,1,2,9,9,1]\n",
        "a = statistics.mean(x)\n",
        "b = statistics.median(x)\n",
        "c = statistics.mode(x)\n",
        "d = statistics.stdev(x)\n",
        "print(a,b,c,d)"
      ],
      "metadata": {
        "colab": {
          "base_uri": "https://localhost:8080/"
        },
        "id": "j2NFiTnLby5Y",
        "outputId": "a73b8af5-6c3d-45ac-cb8f-837168c7cd80"
      },
      "execution_count": null,
      "outputs": [
        {
          "output_type": "stream",
          "name": "stdout",
          "text": [
            "4 2 1 3.582364210034113\n"
          ]
        }
      ]
    },
    {
      "cell_type": "code",
      "source": [
        "#module os\n",
        "import os\n",
        "print(\"Number of cores in processor - \", os.cpu_count())\n",
        "x = os.getcwd()\n",
        "print(x)\n",
        "y = os.path.isdir(\"mycodes\")\n",
        "print(y)\n",
        "os.mkdir(\"mycodes\")\n",
        "z = os.path.isdir(\"mycodes\")\n",
        "print(z)\n",
        "t = os.path.getctime(\"mycodes\")\n",
        "print(t)"
      ],
      "metadata": {
        "colab": {
          "base_uri": "https://localhost:8080/"
        },
        "id": "44LY9dsBb4Qu",
        "outputId": "a236947c-a5fa-4351-86ed-d5297cea30e9"
      },
      "execution_count": null,
      "outputs": [
        {
          "output_type": "stream",
          "name": "stdout",
          "text": [
            "Number of cores in processor -  2\n",
            "/content\n",
            "False\n",
            "True\n",
            "1649750869.9345765\n"
          ]
        }
      ]
    },
    {
      "cell_type": "code",
      "source": [
        "#module time\n",
        "import time\n",
        "local_time = time.ctime()\n",
        "print(\"Local time : \", local_time)\n",
        "print(\"This is printed immediately.\")\n",
        "time.sleep(2.4)\n",
        "print(\"This is printed after 2.4 seconds.\")"
      ],
      "metadata": {
        "colab": {
          "base_uri": "https://localhost:8080/"
        },
        "id": "KBpYsQa7b6hl",
        "outputId": "088196dc-6de2-4cd8-cae1-937555cf0d84"
      },
      "execution_count": null,
      "outputs": [
        {
          "output_type": "stream",
          "name": "stdout",
          "text": [
            "Local time :  Tue Apr 12 08:07:57 2022\n",
            "This is printed immediately.\n",
            "This is printed after 2.4 seconds.\n"
          ]
        }
      ]
    },
    {
      "cell_type": "code",
      "source": [
        "#module math\n",
        "import math\n",
        "print(math.pi)\n",
        "a = 2.3\n",
        "print(\"The ceil of 2.3 is : \", end = \" \")\n",
        "print(math.ceil(a))\n",
        "print(\"The floor of 2.3 is : \", end = \" \")\n",
        "print(math.floor(a))\n",
        "\n",
        "a = 5\n",
        "print(\"The factorial of 5 is : \", end = \" \")\n",
        "print(math.factorial(a))"
      ],
      "metadata": {
        "colab": {
          "base_uri": "https://localhost:8080/"
        },
        "id": "0QgatRfBcHCg",
        "outputId": "9acf9d9b-8ead-406f-f9d9-e30250dbe9e9"
      },
      "execution_count": null,
      "outputs": [
        {
          "output_type": "stream",
          "name": "stdout",
          "text": [
            "3.141592653589793\n",
            "The ceil of 2.3 is :  3\n",
            "The floor of 2.3 is :  2\n",
            "The factorial of 5 is :  120\n"
          ]
        }
      ]
    },
    {
      "cell_type": "code",
      "source": [
        "#FGD\n",
        "#creating a class\n",
        "class person:\n",
        "  pass\n",
        "print(person)\n",
        "\n",
        "#create an object by calling the class\n",
        "p = person()\n",
        "print(p)\n",
        "\n",
        "#creating class and object in python\n",
        "class student:\n",
        "  \"\"\"this is student class with data\"\"\"\n",
        "  def learn(self):\n",
        "    print(\"welcome to Dr. Milaan Parmar's class on python programming\")\n",
        "stud = student()\n",
        "stud.learn()"
      ],
      "metadata": {
        "colab": {
          "base_uri": "https://localhost:8080/"
        },
        "id": "tR-2G2p5cMX2",
        "outputId": "b7febb23-9f71-4573-bcf1-08226a1cd4e4"
      },
      "execution_count": null,
      "outputs": [
        {
          "output_type": "stream",
          "name": "stdout",
          "text": [
            "<class '__main__.person'>\n",
            "<__main__.person object at 0x7f0ca9cf49d0>\n",
            "welcome to Dr. Milaan Parmar's class on python programming\n"
          ]
        }
      ]
    },
    {
      "cell_type": "code",
      "source": [
        "class person:\n",
        "  def __init__(self, name):\n",
        "    self.name = name\n",
        "p = person('Milaan')\n",
        "print(p.name)\n",
        "print(p)\n",
        "\n",
        "#add more parameters to the constructor function\n",
        "class person:\n",
        "  def __init__(self, firstname, lastname, age, country, city):\n",
        "    self.firstname = firstname\n",
        "    self.lastname = lastname\n",
        "    self.age = age\n",
        "    self.country = country\n",
        "    self.city = city\n",
        "p = person('Milaan', 'Parman', 96, 'England', 'London')\n",
        "print(p.firstname)\n",
        "print(p.lastname)\n",
        "print(p.age)\n",
        "print(p.country)\n",
        "print(p.city)"
      ],
      "metadata": {
        "colab": {
          "base_uri": "https://localhost:8080/"
        },
        "id": "1whbxadccRrp",
        "outputId": "0fb8c61d-1b4f-444d-e159-8a6c74e1ad63"
      },
      "execution_count": null,
      "outputs": [
        {
          "output_type": "stream",
          "name": "stdout",
          "text": [
            "Milaan\n",
            "<__main__.person object at 0x7f0ca9c91890>\n",
            "Milaan\n",
            "Parman\n",
            "96\n",
            "England\n",
            "London\n"
          ]
        }
      ]
    },
    {
      "cell_type": "code",
      "source": [
        "#creating class and object in python\n",
        "class student:\n",
        "  def __init__(self, name, percentage):\n",
        "    self.name = name\n",
        "    self.percentage = percentage\n",
        "  def show(self):\n",
        "    print(\"Name is : \", self.name, \"and percentage is : \", self.percentage)\n",
        "stud = student(\"Arthur\", 90)\n",
        "stud.show()"
      ],
      "metadata": {
        "colab": {
          "base_uri": "https://localhost:8080/"
        },
        "id": "Ny_SCYRDcXVI",
        "outputId": "001a2724-15e5-4958-b96e-283a015002b5"
      },
      "execution_count": null,
      "outputs": [
        {
          "output_type": "stream",
          "name": "stdout",
          "text": [
            "Name is :  Arthur and percentage is :  90\n"
          ]
        }
      ]
    },
    {
      "cell_type": "code",
      "source": [
        "#creating class and object in python\n",
        "class parrot:\n",
        "  species = \"bird\"\n",
        "  def __init__(self, name, age):\n",
        "    self.name = name\n",
        "    self.age = age\n",
        "\n",
        "#instantiate the parrot class\n",
        "blu = parrot(\"blu\", 10)\n",
        "woo = parrot(\"woo\", 15)\n",
        "\n",
        "#access the class attributes\n",
        "print(\"blu is a {}\".format(blu.__class__.species))\n",
        "print(\"woo is also a {}\".format(woo.__class__.species))\n",
        "\n",
        "#access the instance attributes\n",
        "print(\"{} is {} years old\".format(blu.name, blu.age))\n",
        "print(\"{} is {} years old\".format(woo.name, woo.age))"
      ],
      "metadata": {
        "colab": {
          "base_uri": "https://localhost:8080/"
        },
        "id": "kpZ20_CpcheK",
        "outputId": "64bce094-d6c3-45b2-8132-ef5919febd57"
      },
      "execution_count": null,
      "outputs": [
        {
          "output_type": "stream",
          "name": "stdout",
          "text": [
            "blu is a bird\n",
            "woo is also a bird\n",
            "blu is 10 years old\n",
            "woo is 15 years old\n"
          ]
        }
      ]
    },
    {
      "cell_type": "code",
      "source": [
        "class person:\n",
        "  def __init__(self, firstname, lastname, age, country, city):\n",
        "    self.firstname = firstname\n",
        "    self.lastname = lastname\n",
        "    self.age = age\n",
        "    self.country = country\n",
        "    self.city = city\n",
        "  def person_info(self):\n",
        "    return f'{self.firstname} {self.lastname} is {self.age} years old. He lives in {self.city}, {self.country}'\n",
        "p = person('Milaan', 'Parmar', 96, 'England', 'London')\n",
        "print(p.person_info())"
      ],
      "metadata": {
        "colab": {
          "base_uri": "https://localhost:8080/"
        },
        "id": "2qB8PcA_c17S",
        "outputId": "ef393d93-14bd-4898-87c6-ac596a9b1c62"
      },
      "execution_count": null,
      "outputs": [
        {
          "output_type": "stream",
          "name": "stdout",
          "text": [
            "Milaan Parmar is 96 years old. He lives in London, England\n"
          ]
        }
      ]
    },
    {
      "cell_type": "code",
      "source": [
        "#creating object methods in python\n",
        "class parrot:\n",
        "\n",
        "  #instance attributes\n",
        "  def __init__(self, name, age):\n",
        "    self.name = name\n",
        "    self.age = age\n",
        "\n",
        "  #instance method\n",
        "  def sing(self, song):\n",
        "    return \"{} sings {}\".format(self.name, song)\n",
        "\n",
        "  def dance(self):\n",
        "    return \"{} is now dancing\".format(self.name)\n",
        "\n",
        "#instantiate the object\n",
        "blu = parrot(\"blu\", 10)\n",
        "\n",
        "#call our instance methods\n",
        "print(blu.sing(\"'happy'\"))\n",
        "print(blu.dance())"
      ],
      "metadata": {
        "colab": {
          "base_uri": "https://localhost:8080/"
        },
        "id": "5icb-t8udfbl",
        "outputId": "1d3d822f-b05c-4a37-fe39-4256bc04b264"
      },
      "execution_count": null,
      "outputs": [
        {
          "output_type": "stream",
          "name": "stdout",
          "text": [
            "blu sings 'happy'\n",
            "blu is now dancing\n"
          ]
        }
      ]
    },
    {
      "cell_type": "code",
      "source": [
        "class person:\n",
        "  def __init__(self, firstname = 'Milaan', lastname = 'Parmar', age = 96, country = 'England', city = 'London'):\n",
        "    self.firstname = firstname\n",
        "    self.lastname = lastname\n",
        "    self.age = age\n",
        "    self.country = country\n",
        "    self.city = city\n",
        "\n",
        "  def person_info(self):\n",
        "    return f'{self.firstname} {self.lastname} is {self.age} years old. He lives in {self.city}, {self.country}.'\n",
        "p1 = person()\n",
        "print(p1.person_info())\n",
        "p2 = person('Ben', 'Doe', 30, 'Finland', 'Tampere')\n",
        "print(p2.person_info())"
      ],
      "metadata": {
        "colab": {
          "base_uri": "https://localhost:8080/"
        },
        "id": "rODF1RxcguIC",
        "outputId": "355b799c-8a55-499c-9092-d049f82a4ff7"
      },
      "execution_count": null,
      "outputs": [
        {
          "output_type": "stream",
          "name": "stdout",
          "text": [
            "Milaan Parmar is 96 years old. He lives in London, England.\n",
            "Ben Doe is 30 years old. He lives in Tampere, Finland.\n"
          ]
        }
      ]
    },
    {
      "cell_type": "code",
      "source": [
        "class person:\n",
        "  def __init__(self, firstname = 'Milaan', lastname = 'Parmar', age = 96, country = 'England', city = 'London'):\n",
        "    self.firstname = firstname\n",
        "    self.lastname = lastname\n",
        "    self.age = age\n",
        "    self.country = country\n",
        "    self.city = city\n",
        "    self.skills = []\n",
        "  def person_info(self):\n",
        "    return f'{self.firstname} {self.lastname} is {self.age} years old. He lives in {self.city}, {self.country}.'\n",
        "  def add_skill(self, skill):\n",
        "    self.skills.append(skill)\n",
        "\n",
        "p1 = person()\n",
        "print(p1.person_info())\n",
        "p1.add_skill('python')\n",
        "p1.add_skill('matlab')\n",
        "p1.add_skill('R')\n",
        "p2 = person('Ben', 'Doe', 30, 'Finland', 'Tampere')\n",
        "print(p2.person_info())\n",
        "print(p1.skills)\n",
        "print(p2.skills)"
      ],
      "metadata": {
        "colab": {
          "base_uri": "https://localhost:8080/"
        },
        "id": "w2d3PNZGki2n",
        "outputId": "2d2945dd-3e3c-42ee-83aa-189aa86907c4"
      },
      "execution_count": null,
      "outputs": [
        {
          "output_type": "stream",
          "name": "stdout",
          "text": [
            "Milaan Parmar is 96 years old. He lives in London, England.\n",
            "Ben Doe is 30 years old. He lives in Tampere, Finland.\n",
            "['python', 'matlab', 'R']\n",
            "[]\n"
          ]
        }
      ]
    },
    {
      "cell_type": "code",
      "source": [
        "#use of inheritance in python\n",
        "class classone:\n",
        "  def func1(self):\n",
        "    print('this is parent class')\n",
        "class classtwo(classone):\n",
        "  def func2(self):\n",
        "    print('this is child class')\n",
        "obj = classtwo()\n",
        "obj.func1()\n",
        "obj.func2()"
      ],
      "metadata": {
        "colab": {
          "base_uri": "https://localhost:8080/"
        },
        "id": "-j65iydrv5Mc",
        "outputId": "59cb8318-99a4-4a0e-c0b9-29cecc7ede16"
      },
      "execution_count": null,
      "outputs": [
        {
          "output_type": "stream",
          "name": "stdout",
          "text": [
            "this is parent class\n",
            "this is child class\n"
          ]
        }
      ]
    },
    {
      "cell_type": "code",
      "source": [
        "class student(person):\n",
        "  pass\n",
        "s1 = student('Arthur', 'Curry', 33, 'England', 'London')\n",
        "s2 = student('Emily', 'Carter', 28, 'England', 'Manchester')\n",
        "\n",
        "print(s1.person_info())\n",
        "s1.add_skill('HTML')\n",
        "s1.add_skill('CSS')\n",
        "s1.add_skill('JS')\n",
        "print(s1.skills)\n",
        "\n",
        "print(s2.person_info())\n",
        "s2.add_skill('Organizing')\n",
        "s2.add_skill('Marketing')\n",
        "s2.add_skill('Digital Marketing')\n",
        "print(s2.skills)"
      ],
      "metadata": {
        "colab": {
          "base_uri": "https://localhost:8080/"
        },
        "id": "hWgJgei_xdyv",
        "outputId": "4f7b2415-90ab-4371-b74e-17820f46c690"
      },
      "execution_count": null,
      "outputs": [
        {
          "output_type": "stream",
          "name": "stdout",
          "text": [
            "Arthur Curry is 33 years old. He lives in London, England.\n",
            "['HTML', 'CSS', 'JS']\n",
            "Emily Carter is 28 years old. He lives in Manchester, England.\n",
            "['Organizing', 'Marketing', 'Digital Marketing']\n"
          ]
        }
      ]
    }
  ]
}